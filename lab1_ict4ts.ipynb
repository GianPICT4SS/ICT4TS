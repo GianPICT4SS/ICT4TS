{
 "cells": [
  {
   "cell_type": "markdown",
   "metadata": {},
   "source": [
    "\n",
    "# Step 1 - Preliminary data analysis\n",
    "To get used to both MongoDB and the data at disposal, investigate first the collections and get used to the document and field stored in each.\n",
    "\n",
    "* How many documents are present in each collection?\n",
    "* Why the number of documents in PermanentParkings and PermanentBookings is similar?\n",
    "* For which cities the system is collecting data?\n",
    "* When the collection started? When the collection ended?\n",
    "* What about the timezone of the timestamps?\n",
    "Considering each city of your group, check\n",
    "* How many cars are available in each city?\n",
    "* How many bookings have been recorded on the December 2017 in each city?\n",
    "* How many bookings have also the alternative transportation modes recorded in each city?\n",
    "\n",
    "For each question, write the MongoDB query, and the answer you get. Add a brief comment, if useful, to justify the result that you get.\n",
    "\n",
    "We'll used the python library **pymongo**"
   ]
  },
  {
   "cell_type": "code",
   "execution_count": 44,
   "metadata": {},
   "outputs": [
    {
     "data": {
      "text/plain": [
       "True"
      ]
     },
     "execution_count": 44,
     "metadata": {},
     "output_type": "execute_result"
    }
   ],
   "source": [
    "\"\"\"\n",
    "    ICT in Transport System Laboratories:\n",
    "    City assigned: \n",
    "    Torino\n",
    "    Torino enjoy\n",
    "    Portland\n",
    "\"\"\"\n",
    "from pymongo import MongoClient\n",
    "from datetime import datetime\n",
    "import time\n",
    "import pprint #for a pretty print\n",
    "\n",
    "\"\"\"Cluster configuration\"\"\"\n",
    "url_cluster = \"bigdatadb.polito.it\"\n",
    "port_number = 27017 #it's the default port in MongoCLient\n",
    "authSource = 'carsharing' #the database to authenticate on. \n",
    "username = 'ictts'\n",
    "psw = 'Ictts16!'\n",
    "\n",
    "#client connection\n",
    "client = MongoClient(host=url_cluster, port=port_number, ssl=True, authSource=authSource,\n",
    "                     tlsAllowINvalidCertificates=True)\n",
    "\n",
    "db = client['carsharing'] #the database we want to authenticate on.\n",
    "db.authenticate(username, psw)"
   ]
  },
  {
   "cell_type": "markdown",
   "metadata": {},
   "source": [
    "Now we are connected to the cluster and we have chosen the database on which we want to work.\n",
    "The first question is: how many documents are present in each collection?\n",
    "In MongoDB, documents are like rows and collections are like tables, in a RDBMS. So, it was asked to understand how many samples are present in each tables. First of all, we want to see what the collections are in the database: "
   ]
  },
  {
   "cell_type": "code",
   "execution_count": 45,
   "metadata": {},
   "outputs": [
    {
     "data": {
      "text/plain": [
       "['enjoy_PermanentBookings',\n",
       " 'test_collection',\n",
       " 'PermanentBookings',\n",
       " 'PermanentParkings',\n",
       " 'system.indexes',\n",
       " 'system.js',\n",
       " 'enjoy_PermanentParkings',\n",
       " 'ActiveBookings',\n",
       " 'enjoy_DebugInfo',\n",
       " 'ictts_PermanentBookings',\n",
       " 'ictts_enjoy_PermanentBookings',\n",
       " 'BigDive7_PermanentBookings',\n",
       " 'enjoy_ActiveParkings',\n",
       " 'DebugInfo',\n",
       " 'ActiveParkings',\n",
       " 'hexs_gen',\n",
       " 'enjoy_ActiveBookings']"
      ]
     },
     "execution_count": 45,
     "metadata": {},
     "output_type": "execute_result"
    }
   ],
   "source": [
    "collections_ls = db.list_collection_names()\n",
    "collections_ls"
   ]
  },
  {
   "cell_type": "markdown",
   "metadata": {},
   "source": [
    "There is 17 collections in the database **carsharing**. We are only interested in some of these. In particular, we are interessed in:\n",
    "* \"ActiveBookings\": Contains cars that are currently booked and not available\n",
    "* \"ActiveParkings\": Contains cars that are currently parked and available\n",
    "* “PermanentBookings\": Contains all booking periods recorded so far\n",
    "* \"PermanentParkings\": Contains all parking periods recorded so far\n",
    "\n",
    "the same are available by enjoy company. Now, we want to know how many documents are in each of the collections that interest us. \n"
   ]
  },
  {
   "cell_type": "code",
   "execution_count": 46,
   "metadata": {},
   "outputs": [
    {
     "data": {
      "text/plain": [
       "{'ActiveBookings': 8743,\n",
       " 'ActiveParkings': 4790,\n",
       " 'PermanentBookings': 28180508,\n",
       " 'PermanentParkings': 28312676,\n",
       " 'enjoy_ActiveBookings': 0,\n",
       " 'enjoy_ActiveParkings': 0,\n",
       " 'enjoy_PermanentBookings': 6653472,\n",
       " 'enjoy_PermanentParkings': 6689979}"
      ]
     },
     "execution_count": 46,
     "metadata": {},
     "output_type": "execute_result"
    }
   ],
   "source": [
    "interest_collections = ['ActiveBookings', 'ActiveParkings', 'PermanentBookings', 'PermanentParkings',\n",
    "                        'enjoy_ActiveBookings', 'enjoy_ActiveParkings', \n",
    "                        'enjoy_PermanentBookings', 'enjoy_PermanentParkings']\n",
    "numberDocuments_dict = {}\n",
    "\n",
    "for collection in interest_collections:\n",
    "    numberDocuments_dict[collection] = db[collection].estimated_document_count()\n",
    "    \n",
    "numberDocuments_dict"
   ]
  },
  {
   "cell_type": "code",
   "execution_count": 47,
   "metadata": {},
   "outputs": [
    {
     "data": {
      "text/plain": [
       "['Amsterdam',\n",
       " 'Austin',\n",
       " 'Berlin',\n",
       " 'Calgary',\n",
       " 'Columbus',\n",
       " 'Denver',\n",
       " 'Firenze',\n",
       " 'Frankfurt',\n",
       " 'Hamburg',\n",
       " 'Madrid',\n",
       " 'Milano',\n",
       " 'Montreal',\n",
       " 'Munchen',\n",
       " 'New York City',\n",
       " 'Portland',\n",
       " 'Rheinland',\n",
       " 'Roma',\n",
       " 'Seattle',\n",
       " 'Stuttgart',\n",
       " 'Torino',\n",
       " 'Toronto',\n",
       " 'Vancouver',\n",
       " 'Washington DC',\n",
       " 'Wien']"
      ]
     },
     "execution_count": 47,
     "metadata": {},
     "output_type": "execute_result"
    }
   ],
   "source": [
    "cities = db['ActiveBookings'].distinct('city')\n",
    "cities"
   ]
  },
  {
   "cell_type": "markdown",
   "metadata": {},
   "source": [
    "Now, we want to know what is the *start time* and the *end time* for each of the collection that interest us. First, let's see how a document is:"
   ]
  },
  {
   "cell_type": "code",
   "execution_count": 48,
   "metadata": {},
   "outputs": [
    {
     "data": {
      "text/plain": [
       "{'_id': ObjectId('5a7087732ad85324efc00c6a'),\n",
       " 'plate': 'BHF2074',\n",
       " 'vendor': 'car2go',\n",
       " 'final_time': -1,\n",
       " 'loc': {'type': 'Point', 'coordinates': [-122.34949, 47.72745]},\n",
       " 'init_time': 1517324135,\n",
       " 'vin': 'WDCTG4GB1JJ426163',\n",
       " 'smartPhoneRequired': True,\n",
       " 'interior': 'GOOD',\n",
       " 'exterior': 'GOOD',\n",
       " 'address': '13524 Fremont Ave N, Seattle, WA 98133, USA',\n",
       " 'init_date': datetime.datetime(2018, 1, 30, 6, 55, 35),\n",
       " 'final_date': -1,\n",
       " 'city': 'Seattle',\n",
       " 'fuel': 100,\n",
       " 'engineType': 'CE'}"
      ]
     },
     "execution_count": 48,
     "metadata": {},
     "output_type": "execute_result"
    }
   ],
   "source": [
    "db.ActiveParkings.find_one()"
   ]
  },
  {
   "cell_type": "code",
   "execution_count": null,
   "metadata": {},
   "outputs": [],
   "source": [
    "#i want to know if the start time is the same for all collections\n",
    "a = list(db['ActiveBookings'].find().sort('init_time'))[0]\n",
    "b = list(db['PermanentParkings'].find().sort('init_time'))[0]\n",
    "a['init_time'], b['init_time']"
   ]
  },
  {
   "cell_type": "code",
   "execution_count": null,
   "metadata": {},
   "outputs": [],
   "source": [
    "#it takes too many time \n",
    "startEnd_dict = {}\n",
    "df_start = list(db['PermanentBookings'].find().sort('init_time'))[0]\n",
    "df_end = list(db['PermanentBookings'].find().sort('init_time'))[-1]\n",
    "startEnd_dict['PermanentBookings'] = {'start': datetime.fromtimestamp(df_start['init_time']), 'end': datetime.fromtimestamp(df_end['init_time'])}\n",
    "startEnd_dict"
   ]
  }
 ],
 "metadata": {
  "kernelspec": {
   "display_name": "Python 3",
   "language": "python",
   "name": "python3"
  },
  "language_info": {
   "codemirror_mode": {
    "name": "ipython",
    "version": 3
   },
   "file_extension": ".py",
   "mimetype": "text/x-python",
   "name": "python",
   "nbconvert_exporter": "python",
   "pygments_lexer": "ipython3",
   "version": "3.7.4"
  }
 },
 "nbformat": 4,
 "nbformat_minor": 2
}
